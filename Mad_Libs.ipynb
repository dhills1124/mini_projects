{
 "cells": [
  {
   "cell_type": "code",
   "execution_count": 4,
   "metadata": {},
   "outputs": [
    {
     "name": "stdin",
     "output_type": "stream",
     "text": [
      "Enter a color:  purple.\n",
      "Enter a plural noun:  Refrigerators\n",
      "Enter a food:  mac and cheese.\n",
      "Enter a verb:  working out.\n",
      "Enter a adjective:  hypocritical.\n",
      "Enter a adjective:  rational.\n",
      "Enter a feeling:  normal.\n",
      "Enter a place:  college.\n",
      "Enter a time:  soon.\n",
      "Enter a verb:  working out.\n"
     ]
    },
    {
     "name": "stdout",
     "output_type": "stream",
     "text": [
      "Roses are purple.\n",
      "Refrigerators are blue.\n",
      "I love mac and cheese.\n",
      "I also love working out.\n",
      "My friends say I'm hypocritical.\n",
      "My mom disagrees, she says I am rational.\n",
      "It makes me wonder if I'll ever feel normal.\n",
      "I don't worry about it though, I have plenty of time to find that in college.\n",
      "It would be nice to find it soon.\n",
      "Who knows, maybe I'll find it working out.\n"
     ]
    }
   ],
   "source": [
    "color = input(\"Enter a color: \")\n",
    "plural_noun = input(\"Enter a plural noun: \")\n",
    "food = input(\"Enter a food: \")\n",
    "verb = input(\"Enter a verb: \")\n",
    "adjective = input(\"Enter a adjective: \")\n",
    "adjective_2 = input(\"Enter a adjective: \")\n",
    "feeling = input(\"Enter a feeling: \")\n",
    "place = input(\"Enter a place: \")\n",
    "time = input(\"Enter a time: \")\n",
    "verb_2 = input(\"Enter a verb: \")\n",
    "\n",
    "print(\"Roses are \" + color)\n",
    "print(plural_noun + \" are blue.\")\n",
    "print(\"I love \" + food)\n",
    "print(\"I also love \" + verb)\n",
    "print(\"My friends say I'm \" + adjective)\n",
    "print(\"My mom disagrees, she says I am \" + adjective_2)\n",
    "print(\"It makes me wonder if I'll ever feel \" + feeling)\n",
    "print(\"I don't worry about it though, I have plenty of time to find that in \" + place)\n",
    "print(\"It would be nice to find it \" + time)\n",
    "print(\"Who knows, maybe I'll find it \" + verb_2)"
   ]
  },
  {
   "cell_type": "code",
   "execution_count": 3,
   "metadata": {},
   "outputs": [
    {
     "name": "stdin",
     "output_type": "stream",
     "text": [
      "Enter a noun:  president.\n",
      "Enter a first name:  Franklin.\n",
      "Enter a verb:  farting.\n",
      "Enter a verb:  farted.\n",
      "Enter a adjective:  fartless.\n",
      "Enter a adjective:  human.\n",
      "Enter a noun:  lie.\n",
      "Enter a place:  my safe place.\n",
      "Enter a noun:  door.\n",
      "Enter a time:  Twenty minutes\n"
     ]
    },
    {
     "name": "stdout",
     "output_type": "stream",
     "text": [
      "One time, I met the president.\n",
      "His name was Franklin.\n",
      "He was farted.\n",
      "Which was weird, I thought he never farted.\n",
      "How weird, I thought he was fartless.\n",
      "But I guess he's just human.\n",
      "My whole life turned out to be a lie.\n",
      "It was too much for me to handle, I hid in my safe place.\n",
      "While I was there, someone broke down my door.\n",
      "Twenty minutes later, it was fixed.\n"
     ]
    }
   ],
   "source": [
    "noun = input(\"Enter a noun: \")\n",
    "first_name = input(\"Enter a first name: \")\n",
    "verb = input(\"Enter a verb: \")\n",
    "verb = input(\"Enter a verb: \")\n",
    "adjective = input(\"Enter a adjective: \")\n",
    "adjective_2 = input(\"Enter a adjective: \")\n",
    "noun_2 = input(\"Enter a noun: \")\n",
    "place = input(\"Enter a place: \")\n",
    "noun_3 = input(\"Enter a noun: \")\n",
    "time = input(\"Enter a time: \")\n",
    "\n",
    "print(\"One time, I met the \" + noun)\n",
    "print(\"His name was \" + first_name)\n",
    "print(\"He was \" + verb)\n",
    "print(\"Which was weird, I thought he never \" + verb)\n",
    "print(\"How weird, I thought he was \" + adjective)\n",
    "print(\"But I guess he's just \" + adjective_2)\n",
    "print(\"My whole life turned out to be a \" + noun_2)\n",
    "print(\"It was too much for me to handle, I hid in \" + place)\n",
    "print(\"While I was there, someone broke down my \" + noun_3)\n",
    "print(time + \" later, it was fixed.\")"
   ]
  },
  {
   "cell_type": "code",
   "execution_count": 2,
   "metadata": {},
   "outputs": [
    {
     "name": "stdin",
     "output_type": "stream",
     "text": [
      "Enter a noun:  the Carribean.\n",
      "Enter a proper noun:  NCL\n",
      "Enter a noun:  sea.\n",
      "Enter a island name:  Belize.\n",
      "Enter a proper noun:  Styx.\n",
      "Enter a verb:  floated.\n",
      "Enter a noun:  wall of water.\n",
      "Enter a verb:  jump.\n",
      "Enter an adjective:  wet.\n",
      "Enter a verb:  laughed.\n"
     ]
    },
    {
     "name": "stdout",
     "output_type": "stream",
     "text": [
      "My family went on vacation to the Carribean.\n",
      "We did this with the cruise line NCL\n",
      "On the first day we were at sea.\n",
      "The second day we went to the island of Belize.\n",
      "Here we did an excursion on the river Styx.\n",
      "We rented out inner tubes and just floated.\n",
      "All of a sudden, there was a wall of water.\n",
      "We got together and decided to jump.\n",
      "Now we were all wet.\n",
      "Afterwards, we sat there and laughed.\n"
     ]
    }
   ],
   "source": [
    "noun = input(\"Enter a noun: \")\n",
    "proper_noun = input(\"Enter a proper noun: \")\n",
    "noun_2 = input(\"Enter a noun: \")\n",
    "island_name = input(\"Enter a island name: \")\n",
    "proper_noun_2 = input(\"Enter a proper noun: \")\n",
    "verb = input(\"Enter a verb: \")\n",
    "noun_3 = input(\"Enter a noun: \")\n",
    "verb_2 = input(\"Enter a verb: \")\n",
    "adjective = input(\"Enter an adjective: \")\n",
    "verb_3 = input(\"Enter a verb: \")\n",
    "\n",
    "print(\"My family went on vacation to \" + noun)\n",
    "print(\"We did this with the cruise line \" + proper_noun)\n",
    "print(\"On the first day we were at \" + noun_2)\n",
    "print(\"The second day we went to the island of \" + island_name)\n",
    "print(\"Here we did an excursion on the river \" + proper_noun_2)\n",
    "print(\"We rented out inner tubes and just \" + verb)\n",
    "print(\"All of a sudden, there was a \" + noun_3)\n",
    "print(\"We got together and decided to \" + verb_2)\n",
    "print(\"Now we were all \" + adjective)\n",
    "print(\"Afterwards, we sat there and \" + verb_3)"
   ]
  },
  {
   "cell_type": "code",
   "execution_count": 6,
   "metadata": {},
   "outputs": [
    {
     "name": "stdin",
     "output_type": "stream",
     "text": [
      "Enter a verb:  partying.\n",
      "Enter a time of day:  day.\n",
      "Enter a verb:  Partying during the day\n",
      "Enter an adjective:  sick.\n",
      "Enter a number of days:  3 days to recover.\n",
      "Enter a verb:  visited.\n",
      "Enter a noun:  party.\n",
      "Enter a verb:  laughed.\n",
      "Enter an adjective:  anyone.\n",
      "Enter a verb:  would.\n"
     ]
    },
    {
     "name": "stdout",
     "output_type": "stream",
     "text": [
      "I was out partying.\n",
      "It felt weird because it was during the day.\n",
      "Partying during the day may not be the best thing to do.\n",
      "The day after I felt sick.\n",
      "It took me  3 days to recover.\n",
      "My friends came and visited.\n",
      "They told me about the party.\n",
      "We all laughed.\n",
      "I would not reccomend it to anyone.\n",
      "Okay maybe I  would.\n"
     ]
    }
   ],
   "source": [
    "verb = input(\"Enter a verb: \")\n",
    "time = input(\"Enter a time of day: \")\n",
    "verb_2 = input(\"Enter a verb: \")\n",
    "adjective = input(\"Enter an adjective: \")\n",
    "time_2 = input(\"Enter a number of days: \")\n",
    "verb_3 = input(\"Enter a verb: \")\n",
    "noun = input(\"Enter a noun: \")\n",
    "verb_4 = input(\"Enter a verb: \") \n",
    "adjective_2 = input(\"Enter an adjective: \")\n",
    "verb_5 = input(\"Enter a verb: \")\n",
    "\n",
    "print(\"I was out \" + verb)\n",
    "print(\"It felt weird because it was during the \" + time)\n",
    "print(verb_2 + \" may not be the best thing to do.\")\n",
    "print(\"The day after I felt \" + adjective)\n",
    "print(\"It took me  \" + time_2)\n",
    "print(\"My friends came and \" + verb_3)\n",
    "print(\"They told me about the \" + noun)\n",
    "print(\"We all \" + verb_4)\n",
    "print(\"I would not reccomend it to \" + adjective_2)\n",
    "print(\"Okay maybe I  \" + verb_5)"
   ]
  },
  {
   "cell_type": "code",
   "execution_count": 7,
   "metadata": {},
   "outputs": [
    {
     "name": "stdin",
     "output_type": "stream",
     "text": [
      "Enter a noun:  baseball.\n",
      "Enter an age:  5.\n",
      "Enter an adjective:  difficult.\n",
      "Enter a island name:  career.\n",
      "Enter a timeframe:  5-10 years.\n",
      "Enter a verb:  miss it.\n",
      "Enter a verb:  still play ball.\n",
      "Enter a noun:  IM flag football.\n",
      "Enter a noun:  baseball.\n",
      "Enter an adjective:  temporarily.\n"
     ]
    },
    {
     "name": "stdout",
     "output_type": "stream",
     "text": [
      "I used to want a career in baseball.\n",
      "I started playing when I was 5.\n",
      "Quitting was difficult.\n",
      "But I had to in order to launch my career.\n",
      "It should help in 5-10 years.\n",
      "However, sometimes I miss it.\n",
      "I wish I could still play ball.\n",
      "Instead, now I play  IM flag football.\n",
      "It's not as fun as baseball.\n",
      "But it does the job,  temporarily.\n"
     ]
    }
   ],
   "source": [
    "noun = input(\"Enter a noun: \")\n",
    "age = input(\"Enter an age: \")\n",
    "adjective = input(\"Enter an adjective: \")\n",
    "noun_2 = input(\"Enter a island name: \")\n",
    "time = input(\"Enter a timeframe: \")\n",
    "verb = input(\"Enter a verb: \")\n",
    "verb_2 = input(\"Enter a verb: \")\n",
    "noun_3 = input(\"Enter a noun: \")\n",
    "noun_4 = input(\"Enter a noun: \")\n",
    "adjective_2 = input(\"Enter an adjective: \")\n",
    "\n",
    "print(\"I used to want a career in \" + noun)\n",
    "print(\"I started playing when I was \" + age)\n",
    "print(\"Quitting was \" + adjective)\n",
    "print(\"But I had to in order to launch my \" + noun_2)\n",
    "print(\"It should help in \" + time)\n",
    "print(\"However, sometimes I \" + verb)\n",
    "print(\"I wish I could \" + verb_2)\n",
    "print(\"Instead, now I play  \" + noun_3)\n",
    "print(\"It's not as fun as \" + noun_4)\n",
    "print(\"But it does the job,  \" + adjective_2)"
   ]
  },
  {
   "cell_type": "code",
   "execution_count": 9,
   "metadata": {},
   "outputs": [
    {
     "name": "stdin",
     "output_type": "stream",
     "text": [
      "Enter a noun:  store.\n",
      "Enter a noun:  chicken nuggets.\n",
      "Enter a noun:  brownies.\n",
      "Enter a noun:  nuggets.\n",
      "Enter an adjective:  boom.\n",
      "Enter a verb:  run.\n",
      "Enter a verb:  followed me out.\n",
      "Enter an adjective:  awe.\n",
      "Enter a noun:  prank.\n",
      "Enter a verb:  investigate.\n"
     ]
    },
    {
     "name": "stdout",
     "output_type": "stream",
     "text": [
      "I went to the store.\n",
      "My mom needed chicken nuggets.\n",
      "I got sidetracked with the brownies.\n",
      "I eventually found the nuggets.\n",
      "All of a sudden, there was a boom.\n",
      "I decided to  run.\n",
      "Everyone  followed me out.\n",
      "Afterwards, we looked on in awe.\n",
      "It was all a prank.\n",
      "The police still had to investigate.\n"
     ]
    }
   ],
   "source": [
    "noun = input(\"Enter a noun: \")\n",
    "noun_2 = input(\"Enter a noun: \")\n",
    "noun_3 = input(\"Enter a noun: \")\n",
    "noun_4 = input(\"Enter a noun: \")\n",
    "adjective = input(\"Enter an adjective: \")\n",
    "verb = input(\"Enter a verb: \")\n",
    "verb_2 = input(\"Enter a verb: \")\n",
    "adjective_2 = input(\"Enter an adjective: \")\n",
    "noun_5 = input(\"Enter a noun: \")\n",
    "verb_3 = input(\"Enter a verb: \")\n",
    "\n",
    "print(\"I went to the \" + noun)\n",
    "print(\"My mom needed \" + noun_2)\n",
    "print(\"I got sidetracked with the \" + noun_3)\n",
    "print(\"I eventually found the \" + noun_4)\n",
    "print(\"All of a sudden, there was a \" + adjective)\n",
    "print(\"I decided to  \" + verb)\n",
    "print(\"Everyone  \" + verb_2)\n",
    "print(\"Afterwards, we looked on in \" + adjective_2)\n",
    "print(\"It was all a \" + noun_5)\n",
    "print(\"The police still had to \" + verb_3)"
   ]
  },
  {
   "cell_type": "code",
   "execution_count": 10,
   "metadata": {},
   "outputs": [
    {
     "name": "stdin",
     "output_type": "stream",
     "text": [
      "Enter a sport organization:  MLB\n",
      "Enter an adjective:  rich.\n",
      "Enter a noun:  crazy babies.\n",
      "Enter a name:  Hills for crazy babies.\n",
      "Enter a verb:  donate.\n",
      "Enter an adjective:  crazy as well.\n",
      "Enter a noun:  correct.\n",
      "Enter a noun:  the crazy babies.\n",
      "Enter an adjective:  truly matters.\n",
      "Enter a verb:  crazy.\n"
     ]
    },
    {
     "name": "stdout",
     "output_type": "stream",
     "text": [
      "If I played a pro sport, I'd be in the MLB\n",
      "This would obviously make me rich.\n",
      "I would use this to help crazy babies.\n",
      "If there was no charity already, I would make one and name it Hills for crazy babies.\n",
      "I would make my teammates donate.\n",
      "They would think I am crazy as well.\n",
      "They'd be  correct.\n",
      "I wouldn't care, as long as I can help the crazy babies.\n",
      "At the end of the day, they are what truly matters.\n",
      "Even if I am crazy.\n"
     ]
    }
   ],
   "source": [
    "sport_organization = input(\"Enter a sport organization: \")\n",
    "adjective = input(\"Enter an adjective: \")\n",
    "noun = input(\"Enter a noun: \")\n",
    "name = input(\"Enter a name: \")\n",
    "verb = input(\"Enter a verb: \")\n",
    "adjective_2 = input(\"Enter an adjective: \")\n",
    "noun_2 = input(\"Enter a noun: \")\n",
    "noun_3 = input(\"Enter a noun: \")\n",
    "adjective_3 = input(\"Enter an adjective: \")\n",
    "adjective_4 = input(\"Enter an adjective: \")\n",
    "\n",
    "print(\"If I played a pro sport, I'd be in the \" + sport_organization)\n",
    "print(\"This would obviously make me \" + adjective)\n",
    "print(\"I would use this to help \" + noun)\n",
    "print(\"If there was no charity already, I would make one and name it \" + name)\n",
    "print(\"I would make my teammates \" + verb)\n",
    "print(\"They would think I am \" + adjective_2)\n",
    "print(\"They'd be  \" + noun_2)\n",
    "print(\"I wouldn't care, as long as I can help \" + noun_3)\n",
    "print(\"At the end of the day, they are what \" + adjective_3)\n",
    "print(\"Even if I am \" + adjective_4)"
   ]
  },
  {
   "cell_type": "code",
   "execution_count": 12,
   "metadata": {},
   "outputs": [
    {
     "name": "stdin",
     "output_type": "stream",
     "text": [
      "Enter a proper noun:  FIU.\n",
      "Enter a noun:  school.\n",
      "Enter a noun:  business school.\n",
      "Enter an adjective:  really good for me.\n",
      "Enter a noun:  college.\n",
      "Enter a verb:  sleep.\n",
      "Enter a verb:  procrastinate a lot.\n",
      "Enter a noun:  homework.\n",
      "Enter a verb:  sleep all day.\n",
      "Enter a verb:  dream.\n"
     ]
    },
    {
     "name": "stdout",
     "output_type": "stream",
     "text": [
      "I go to school at FIU.\n",
      "It is a good school.\n",
      "It actually has a top 10 business school.\n",
      "Which is really good for me.\n",
      "However, it still is a college.\n",
      "This means I get no sleep.\n",
      "Mainly because college students procrastinate a lot.\n",
      "But also because of my homework.\n",
      "I just wish there was one day where I could just sleep all day.\n",
      "A boy can dream.\n"
     ]
    }
   ],
   "source": [
    "proper_noun = input(\"Enter a proper noun: \")\n",
    "noun = input(\"Enter a noun: \")\n",
    "noun_2 = input(\"Enter a noun: \")\n",
    "adjective = input(\"Enter an adjective: \")\n",
    "noun_3 = input(\"Enter a noun: \")\n",
    "verb = input(\"Enter a verb: \")\n",
    "verb_2 = input(\"Enter a verb: \")\n",
    "noun_4 = input(\"Enter a noun: \")\n",
    "verb_3 = input(\"Enter a verb: \")\n",
    "verb_4 = input(\"Enter a verb: \")\n",
    "\n",
    "print(\"I go to school at \" + proper_noun)\n",
    "print(\"It is a good \" + noun)\n",
    "print(\"It actually has a top 10 \" + noun_2)\n",
    "print(\"Which is \" + adjective)\n",
    "print(\"However, it still is a \" + noun_3)\n",
    "print(\"This means I get no \" + verb)\n",
    "print(\"Mainly because college students \" + verb_2)\n",
    "print(\"But also because of my \" + noun_4)\n",
    "print(\"I just wish there was one day where I could just \" + verb_3)\n",
    "print(\"A boy can \" + verb_4)"
   ]
  },
  {
   "cell_type": "code",
   "execution_count": 11,
   "metadata": {},
   "outputs": [
    {
     "name": "stdin",
     "output_type": "stream",
     "text": [
      "Enter an adjective:  fun.\n",
      "Enter an adjective:  boring.\n",
      "Enter an adjective:  tired.\n",
      "Enter an adjective:  bored.\n",
      "Enter a verb:  driving me crazy.\n",
      "Enter an adjective:  smarter\n",
      "Enter a noun:  mad libs.\n",
      "Enter an adjective:  shorter.\n",
      "Enter a noun:  grade.\n",
      "Enter a verb:  sleep soon.\n"
     ]
    },
    {
     "name": "stdout",
     "output_type": "stream",
     "text": [
      "Mad libs are fun.\n",
      "Mad libs are boring.\n",
      "I am tired.\n",
      "I ambored.\n",
      "Mad libs are driving me crazy.\n",
      "I wish someone had been smarter\n",
      "and never invented mad libs.\n",
      "I wish they could be shorter.\n",
      "Alas a grade is a grade.\n",
      "I hope I can  sleep soon.\n"
     ]
    }
   ],
   "source": [
    "adjective = input(\"Enter an adjective: \")\n",
    "adjective_2 = input(\"Enter an adjective: \")\n",
    "adjective_3 = input(\"Enter an adjective: \")\n",
    "adjective_4 = input(\"Enter an adjective: \")\n",
    "verb = input(\"Enter a verb: \")\n",
    "adjective_5 = input(\"Enter an adjective: \")\n",
    "noun = input(\"Enter a noun: \")\n",
    "adjective_6 = input(\"Enter an adjective: \")\n",
    "noun_2 = input(\"Enter a noun: \")\n",
    "verb_2 = input(\"Enter a verb: \")\n",
    "\n",
    "print(\"Mad libs are \" + adjective)\n",
    "print(\"Mad libs are \" + adjective_2)\n",
    "print(\"I am \" + adjective_3)\n",
    "print(\"I am\" + adjective_4)\n",
    "print(\"Mad libs are \" + verb)\n",
    "print(\"I wish someone had been \" + adjective_5)\n",
    "print(\"and never invented \" + noun)\n",
    "print(\"I wish they could be \" + adjective_6)\n",
    "print(\"Alas a grade is a \" + noun_2)\n",
    "print(\"I hope I can  \" + verb_2)"
   ]
  },
  {
   "cell_type": "code",
   "execution_count": 13,
   "metadata": {},
   "outputs": [
    {
     "name": "stdin",
     "output_type": "stream",
     "text": [
      "Enter a noun:  POTUS\n",
      "Enter an adjective:  weird.\n",
      "Enter a verb:  stare at me.\n",
      "Enter an adjective:  good.\n",
      "Enter a verb:  differently if he wasn't my dad.\n",
      "Enter a phrase:  be left alone in peace.\n",
      "Enter an adjective:  impossible.\n",
      "Enter a verb:  understood how I feel.\n",
      "Enter a noun:  better though.\n",
      "Enter a verb:  travel in peace.\n"
     ]
    },
    {
     "name": "stdout",
     "output_type": "stream",
     "text": [
      "POTUS is my father.\n",
      "Sometimes that makes things a little weird.\n",
      "It's like everywhere I go, people stare at me.\n",
      "It's not always good.\n",
      "People would treat me  differently if he wasn't my dad.\n",
      "I just wish I could  be left alone in peace.\n",
      "But with my dad being who he is, I guess that's impossible.\n",
      "I wish people understood how I feel.\n",
      "That wouldn't make things better though.\n",
      "I hope one day I can travel in peace.\n"
     ]
    }
   ],
   "source": [
    "noun = input(\"Enter a noun: \")\n",
    "adjective = input(\"Enter an adjective: \")\n",
    "verb = input(\"Enter a verb: \")\n",
    "adjective_2 = input(\"Enter an adjective: \")\n",
    "verb_2 = input(\"Enter a verb: \")\n",
    "phrase = input(\"Enter a phrase: \")\n",
    "adjective_3 = input(\"Enter an adjective: \")\n",
    "verb_3 = input(\"Enter a verb: \")\n",
    "adjective_4 = input(\"Enter a noun: \")\n",
    "verb_4 = input(\"Enter a verb: \")\n",
    "\n",
    "print(noun + \" is my father.\")\n",
    "print(\"Sometimes that makes things a little \" + adjective)\n",
    "print(\"It's like everywhere I go, people \" + verb)\n",
    "print(\"It's not always \" + adjective_2)\n",
    "print(\"People would treat me  \" + verb_2)\n",
    "print(\"I just wish I could  \" + phrase)\n",
    "print(\"But with my dad being who he is, I guess that's \" + adjective_3)\n",
    "print(\"I wish people \" + verb_3)\n",
    "print(\"That wouldn't make things \" + adjective_4)\n",
    "print(\"I hope one day I can \" + verb_4)"
   ]
  },
  {
   "cell_type": "code",
   "execution_count": null,
   "metadata": {},
   "outputs": [],
   "source": []
  }
 ],
 "metadata": {
  "kernelspec": {
   "display_name": "Python 3",
   "language": "python",
   "name": "python3"
  },
  "language_info": {
   "codemirror_mode": {
    "name": "ipython",
    "version": 3
   },
   "file_extension": ".py",
   "mimetype": "text/x-python",
   "name": "python",
   "nbconvert_exporter": "python",
   "pygments_lexer": "ipython3",
   "version": "3.6.5"
  }
 },
 "nbformat": 4,
 "nbformat_minor": 2
}
